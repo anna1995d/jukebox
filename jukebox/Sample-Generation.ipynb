{
 "cells": [
  {
   "cell_type": "code",
   "execution_count": 10,
   "id": "09a59c6b",
   "metadata": {},
   "outputs": [],
   "source": [
    "import jukebox"
   ]
  },
  {
   "cell_type": "code",
   "execution_count": 11,
   "id": "7b3ae0df",
   "metadata": {},
   "outputs": [],
   "source": [
    "import torch as t\n",
    "import librosa\n",
    "import os\n",
    "from IPython.display import Audio\n",
    "from jukebox.make_models import make_vqvae, make_prior, MODELS, make_model\n",
    "from jukebox.hparams import Hyperparams, setup_hparams\n",
    "from jukebox.sample import sample_single_window, _sample, \\\n",
    "                           sample_partial_window, upsample\n",
    "from jukebox.utils.dist_utils import setup_dist_from_mpi\n",
    "from jukebox.utils.torch_utils import empty_cache"
   ]
  },
  {
   "cell_type": "code",
   "execution_count": 9,
   "id": "745084cf",
   "metadata": {},
   "outputs": [],
   "source": [
    "!module load cuda\n",
    "!export NCCL_BLOCKING_WAIT=1"
   ]
  },
  {
   "cell_type": "code",
   "execution_count": 12,
   "id": "495d12fc",
   "metadata": {},
   "outputs": [
    {
     "name": "stdout",
     "output_type": "stream",
     "text": [
      "Caught error during NCCL init (attempt 0 of 5): trying to initialize the default process group twice!\n",
      "Caught error during NCCL init (attempt 1 of 5): trying to initialize the default process group twice!\n",
      "Caught error during NCCL init (attempt 2 of 5): trying to initialize the default process group twice!\n",
      "Caught error during NCCL init (attempt 3 of 5): trying to initialize the default process group twice!\n",
      "Caught error during NCCL init (attempt 4 of 5): trying to initialize the default process group twice!\n"
     ]
    },
    {
     "ename": "RuntimeError",
     "evalue": "Failed to initialize NCCL",
     "output_type": "error",
     "traceback": [
      "\u001b[0;31m---------------------------------------------------------------------------\u001b[0m",
      "\u001b[0;31mRuntimeError\u001b[0m                              Traceback (most recent call last)",
      "\u001b[0;32m/tmp/ipykernel_32301/3605796648.py\u001b[0m in \u001b[0;36m<module>\u001b[0;34m\u001b[0m\n\u001b[0;32m----> 1\u001b[0;31m \u001b[0mrank\u001b[0m\u001b[0;34m,\u001b[0m \u001b[0mlocal_rank\u001b[0m\u001b[0;34m,\u001b[0m \u001b[0mdevice\u001b[0m \u001b[0;34m=\u001b[0m \u001b[0msetup_dist_from_mpi\u001b[0m\u001b[0;34m(\u001b[0m\u001b[0;34m)\u001b[0m\u001b[0;34m\u001b[0m\u001b[0;34m\u001b[0m\u001b[0m\n\u001b[0m",
      "\u001b[0;32m/project/6043799/anahitaa/jukebox/jukebox/utils/dist_utils.py\u001b[0m in \u001b[0;36msetup_dist_from_mpi\u001b[0;34m(master_addr, backend, port, n_attempts, verbose)\u001b[0m\n\u001b[1;32m     44\u001b[0m ):\n\u001b[1;32m     45\u001b[0m     \u001b[0;32mif\u001b[0m \u001b[0mdist\u001b[0m\u001b[0;34m.\u001b[0m\u001b[0mis_available\u001b[0m\u001b[0;34m(\u001b[0m\u001b[0;34m)\u001b[0m\u001b[0;34m:\u001b[0m\u001b[0;34m\u001b[0m\u001b[0;34m\u001b[0m\u001b[0m\n\u001b[0;32m---> 46\u001b[0;31m         \u001b[0;32mreturn\u001b[0m \u001b[0m_setup_dist_from_mpi\u001b[0m\u001b[0;34m(\u001b[0m\u001b[0mmaster_addr\u001b[0m\u001b[0;34m,\u001b[0m \u001b[0mbackend\u001b[0m\u001b[0;34m,\u001b[0m \u001b[0mport\u001b[0m\u001b[0;34m,\u001b[0m \u001b[0mn_attempts\u001b[0m\u001b[0;34m,\u001b[0m \u001b[0mverbose\u001b[0m\u001b[0;34m)\u001b[0m\u001b[0;34m\u001b[0m\u001b[0;34m\u001b[0m\u001b[0m\n\u001b[0m\u001b[1;32m     47\u001b[0m     \u001b[0;32melse\u001b[0m\u001b[0;34m:\u001b[0m\u001b[0;34m\u001b[0m\u001b[0;34m\u001b[0m\u001b[0m\n\u001b[1;32m     48\u001b[0m         \u001b[0muse_cuda\u001b[0m \u001b[0;34m=\u001b[0m \u001b[0mtorch\u001b[0m\u001b[0;34m.\u001b[0m\u001b[0mcuda\u001b[0m\u001b[0;34m.\u001b[0m\u001b[0mis_available\u001b[0m\u001b[0;34m(\u001b[0m\u001b[0;34m)\u001b[0m\u001b[0;34m\u001b[0m\u001b[0;34m\u001b[0m\u001b[0m\n",
      "\u001b[0;32m/project/6043799/anahitaa/jukebox/jukebox/utils/dist_utils.py\u001b[0m in \u001b[0;36m_setup_dist_from_mpi\u001b[0;34m(master_addr, backend, port, n_attempts, verbose)\u001b[0m\n\u001b[1;32m     99\u001b[0m             \u001b[0;32mpass\u001b[0m\u001b[0;34m\u001b[0m\u001b[0;34m\u001b[0m\u001b[0m\n\u001b[1;32m    100\u001b[0m \u001b[0;34m\u001b[0m\u001b[0m\n\u001b[0;32m--> 101\u001b[0;31m     \u001b[0;32mraise\u001b[0m \u001b[0mRuntimeError\u001b[0m\u001b[0;34m(\u001b[0m\u001b[0;34m\"Failed to initialize NCCL\"\u001b[0m\u001b[0;34m)\u001b[0m\u001b[0;34m\u001b[0m\u001b[0;34m\u001b[0m\u001b[0m\n\u001b[0m",
      "\u001b[0;31mRuntimeError\u001b[0m: Failed to initialize NCCL"
     ]
    }
   ],
   "source": [
    "rank, local_rank, device = setup_dist_from_mpi()"
   ]
  },
  {
   "cell_type": "code",
   "execution_count": null,
   "id": "16cc1957",
   "metadata": {},
   "outputs": [],
   "source": []
  }
 ],
 "metadata": {
  "kernelspec": {
   "display_name": "Python 3 (ipykernel)",
   "language": "python",
   "name": "python3"
  },
  "language_info": {
   "codemirror_mode": {
    "name": "ipython",
    "version": 3
   },
   "file_extension": ".py",
   "mimetype": "text/x-python",
   "name": "python",
   "nbconvert_exporter": "python",
   "pygments_lexer": "ipython3",
   "version": "3.7.4"
  }
 },
 "nbformat": 4,
 "nbformat_minor": 5
}
