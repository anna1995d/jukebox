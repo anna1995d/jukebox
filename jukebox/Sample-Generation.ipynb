{
 "cells": [
  {
   "cell_type": "code",
   "execution_count": 1,
   "id": "100c55ec",
   "metadata": {},
   "outputs": [
    {
     "name": "stdout",
     "output_type": "stream",
     "text": [
      "Fri Jul  2 10:09:28 2021       \r\n",
      "+-----------------------------------------------------------------------------+\r\n",
      "| NVIDIA-SMI 455.45.01    Driver Version: 455.45.01    CUDA Version: 11.1     |\r\n",
      "|-------------------------------+----------------------+----------------------+\r\n",
      "| GPU  Name        Persistence-M| Bus-Id        Disp.A | Volatile Uncorr. ECC |\r\n",
      "| Fan  Temp  Perf  Pwr:Usage/Cap|         Memory-Usage | GPU-Util  Compute M. |\r\n",
      "|                               |                      |               MIG M. |\r\n",
      "|===============================+======================+======================|\r\n",
      "|   0  Tesla P100-PCIE...  On   | 00000000:82:00.0 Off |                    0 |\r\n",
      "| N/A   29C    P0    24W / 250W |      0MiB / 12198MiB |      0%      Default |\r\n",
      "|                               |                      |                  N/A |\r\n",
      "+-------------------------------+----------------------+----------------------+\r\n",
      "|   1  Tesla P100-PCIE...  On   | 00000000:83:00.0 Off |                    0 |\r\n",
      "| N/A   28C    P0    25W / 250W |      0MiB / 12198MiB |      0%      Default |\r\n",
      "|                               |                      |                  N/A |\r\n",
      "+-------------------------------+----------------------+----------------------+\r\n",
      "                                                                               \r\n",
      "+-----------------------------------------------------------------------------+\r\n",
      "| Processes:                                                                  |\r\n",
      "|  GPU   GI   CI        PID   Type   Process name                  GPU Memory |\r\n",
      "|        ID   ID                                                   Usage      |\r\n",
      "|=============================================================================|\r\n",
      "|  No running processes found                                                 |\r\n",
      "+-----------------------------------------------------------------------------+\r\n"
     ]
    }
   ],
   "source": [
    "!nvidia-smi"
   ]
  },
  {
   "cell_type": "code",
   "execution_count": 1,
   "id": "3113a3e1",
   "metadata": {
    "scrolled": true
   },
   "outputs": [
    {
     "name": "stdout",
     "output_type": "stream",
     "text": [
      "Using cuda True\n"
     ]
    }
   ],
   "source": [
    "import jukebox\n",
    "import torch as t\n",
    "import librosa\n",
    "import os\n",
    "from IPython.display import Audio\n",
    "from jukebox.make_models import make_vqvae, make_prior, MODELS, make_model\n",
    "from jukebox.hparams import Hyperparams, setup_hparams\n",
    "from jukebox.sample import sample_single_window, _sample, \\\n",
    "                           sample_partial_window, upsample\n",
    "from jukebox.utils.dist_utils import setup_dist_from_mpi\n",
    "from jukebox.utils.torch_utils import empty_cache\n",
    "rank, local_rank, device = setup_dist_from_mpi()"
   ]
  },
  {
   "cell_type": "code",
   "execution_count": 7,
   "id": "5ea1d5f4",
   "metadata": {},
   "outputs": [],
   "source": [
    "!module load StdEnv/2018.3 nixpkgs/16.09 python/3.7"
   ]
  },
  {
   "cell_type": "code",
   "execution_count": 13,
   "id": "3ba152cf",
   "metadata": {},
   "outputs": [
    {
     "name": "stdout",
     "output_type": "stream",
     "text": [
      "Ignoring pip: markers 'python_version < \"3\"' don't match your environment\n",
      "Looking in links: /cvmfs/soft.computecanada.ca/custom/python/wheelhouse/nix/avx2, /cvmfs/soft.computecanada.ca/custom/python/wheelhouse/nix/generic, /cvmfs/soft.computecanada.ca/custom/python/wheelhouse/generic\n",
      "Collecting ffmpeg\n",
      "Installing collected packages: ffmpeg\n",
      "Successfully installed ffmpeg-1.4\n"
     ]
    }
   ],
   "source": [
    "!pip install --user ffmpeg"
   ]
  },
  {
   "cell_type": "code",
   "execution_count": 9,
   "id": "c3f45f7c",
   "metadata": {},
   "outputs": [
    {
     "name": "stdout",
     "output_type": "stream",
     "text": [
      "\r\n",
      "Currently Loaded Modules:\r\n",
      "  1) StdEnv/2018.3   (\u001b[1;31mS\u001b[0m)      5) \u001b[2micc/.2018.3.222\u001b[0m   (H)   9) python/3.7.4 (\u001b[1;34mt\u001b[0m)\r\n",
      "  2) nixpkgs/16.09   (\u001b[1;31mS\u001b[0m)      6) \u001b[2mifort/.2018.3.222\u001b[0m (H)  10) mpi4py/3.0.3 (\u001b[1;34mt\u001b[0m)\r\n",
      "  3) imkl/2018.3.222 (\u001b[1;32mmath\u001b[0m)   7) intel/2018.3      (\u001b[1;34mt\u001b[0m)\r\n",
      "  4) \u001b[2mgcccore/.7.3.0\u001b[0m  (H)      8) openmpi/3.1.2     (\u001b[1;31mm\u001b[0m)\r\n",
      "\r\n",
      "  Where:\r\n",
      "   \u001b[1;31mS\u001b[0m:     Module is Sticky, requires --force to unload or purge\r\n",
      "   \u001b[1;31mm\u001b[0m:     MPI implementations / Implémentations MPI\r\n",
      "   \u001b[1;32mmath\u001b[0m:  Mathematical libraries / Bibliothèques mathématiques\r\n",
      "   \u001b[1;34mt\u001b[0m:     Tools for development / Outils de développement\r\n",
      "   H:                Hidden Module\r\n",
      "\r\n",
      " \r\n",
      "\r\n"
     ]
    }
   ],
   "source": [
    "!module list"
   ]
  },
  {
   "cell_type": "code",
   "execution_count": 14,
   "id": "b9ad2ee1",
   "metadata": {},
   "outputs": [
    {
     "ename": "ImportError",
     "evalue": "libavcodec.so.58: cannot open shared object file: No such file or directory",
     "output_type": "error",
     "traceback": [
      "\u001b[0;31m---------------------------------------------------------------------------\u001b[0m",
      "\u001b[0;31mImportError\u001b[0m                               Traceback (most recent call last)",
      "\u001b[0;32m/tmp/ipykernel_28337/226160365.py\u001b[0m in \u001b[0;36m<module>\u001b[0;34m\u001b[0m\n\u001b[0;32m----> 1\u001b[0;31m \u001b[0;32mimport\u001b[0m \u001b[0mav\u001b[0m\u001b[0;34m\u001b[0m\u001b[0;34m\u001b[0m\u001b[0m\n\u001b[0m",
      "\u001b[0;32m/project/6043799/anahitaa/jukebox/CC-ENVS/JUKEBOX-JUPYTER/lib/python3.7/site-packages/av/__init__.py\u001b[0m in \u001b[0;36m<module>\u001b[0;34m\u001b[0m\n\u001b[1;32m      7\u001b[0m \u001b[0;31m# MUST import the core before anything else in order to initalize the underlying\u001b[0m\u001b[0;34m\u001b[0m\u001b[0;34m\u001b[0m\u001b[0;34m\u001b[0m\u001b[0m\n\u001b[1;32m      8\u001b[0m \u001b[0;31m# library that is being wrapped.\u001b[0m\u001b[0;34m\u001b[0m\u001b[0;34m\u001b[0m\u001b[0;34m\u001b[0m\u001b[0m\n\u001b[0;32m----> 9\u001b[0;31m \u001b[0;32mfrom\u001b[0m \u001b[0mav\u001b[0m\u001b[0;34m.\u001b[0m\u001b[0m_core\u001b[0m \u001b[0;32mimport\u001b[0m \u001b[0mtime_base\u001b[0m\u001b[0;34m,\u001b[0m \u001b[0mpyav_version\u001b[0m \u001b[0;32mas\u001b[0m \u001b[0m__version__\u001b[0m\u001b[0;34m,\u001b[0m \u001b[0mlibrary_versions\u001b[0m\u001b[0;34m\u001b[0m\u001b[0;34m\u001b[0m\u001b[0m\n\u001b[0m\u001b[1;32m     10\u001b[0m \u001b[0;34m\u001b[0m\u001b[0m\n\u001b[1;32m     11\u001b[0m \u001b[0;31m# Capture logging (by importing it).\u001b[0m\u001b[0;34m\u001b[0m\u001b[0;34m\u001b[0m\u001b[0;34m\u001b[0m\u001b[0m\n",
      "\u001b[0;31mImportError\u001b[0m: libavcodec.so.58: cannot open shared object file: No such file or directory"
     ]
    }
   ],
   "source": [
    "import av"
   ]
  },
  {
   "cell_type": "code",
   "execution_count": null,
   "id": "4fa50e26",
   "metadata": {},
   "outputs": [],
   "source": []
  }
 ],
 "metadata": {
  "kernelspec": {
   "display_name": "Python 3 (ipykernel)",
   "language": "python",
   "name": "python3"
  },
  "language_info": {
   "codemirror_mode": {
    "name": "ipython",
    "version": 3
   },
   "file_extension": ".py",
   "mimetype": "text/x-python",
   "name": "python",
   "nbconvert_exporter": "python",
   "pygments_lexer": "ipython3",
   "version": "3.7.4"
  }
 },
 "nbformat": 4,
 "nbformat_minor": 5
}
